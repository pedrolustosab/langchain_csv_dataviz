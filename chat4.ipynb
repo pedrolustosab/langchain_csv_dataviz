{
 "cells": [
  {
   "cell_type": "code",
   "execution_count": 1,
   "metadata": {},
   "outputs": [],
   "source": [
    "from dotenv import load_dotenv\n",
    "from langchain_experimental.agents.agent_toolkits import create_pandas_dataframe_agent\n",
    "import os\n",
    "from dotenv import load_dotenv\n",
    "import pandas as pd\n",
    "from langchain_experimental.agents.agent_toolkits import create_pandas_dataframe_agent\n",
    "from langchain.chat_models import ChatOpenAI\n",
    "from langchain.agents import AgentType\n",
    "from tabulate import tabulate"
   ]
  },
  {
   "cell_type": "code",
   "execution_count": 2,
   "metadata": {},
   "outputs": [
    {
     "name": "stderr",
     "output_type": "stream",
     "text": [
      "C:\\Users\\PedroLustosa\\AppData\\Local\\Temp\\ipykernel_25028\\3561186298.py:8: LangChainDeprecationWarning: The class `ChatOpenAI` was deprecated in LangChain 0.0.10 and will be removed in 1.0. An updated version of the class exists in the langchain-openai package and should be used instead. To use it run `pip install -U langchain-openai` and import as `from langchain_openai import ChatOpenAI`.\n",
      "  llm = ChatOpenAI(model=\"gpt-4o-mini\")\n"
     ]
    }
   ],
   "source": [
    "# Load environment variables from .env\n",
    "load_dotenv()\n",
    "\n",
    "# Load the CSV file into a pandas DataFrame\n",
    "df = pd.read_csv(\"basededados_aulat7.csv\")\n",
    "\n",
    "\n",
    "llm = ChatOpenAI(model=\"gpt-4o-mini\")\n",
    "agent_prompt_prefix = \"\"\"Voce é um especialista em dados trabalhando com dataframe pandas no Python\"\"\""
   ]
  },
  {
   "cell_type": "code",
   "execution_count": 6,
   "metadata": {},
   "outputs": [
    {
     "name": "stdout",
     "output_type": "stream",
     "text": [
      "{'input': 'Qual a quantidade por vendedor?', 'output': 'Aqui está a quantidade total de produtos vendidos por cada vendedor:\\n\\n| Vendedor | Quantidade |\\n|----------|------------|\\n| Func 1  | 550        |\\n| Func 10 | 404        |\\n| Func 11 | 370        |\\n| Func 12 | 594        |\\n| Func 13 | 116        |\\n| Func 14 | 390        |\\n| Func 15 | 695        |\\n| Func 16 | 382        |\\n| Func 17 | 372        |\\n| Func 18 | 48         |\\n| Func 19 | 177        |\\n| Func 2  | 332        |\\n| Func 20 | 449        |\\n| Func 3  | 930        |\\n| Func 4  | 130        |\\n| Func 5  | 108        |\\n| Func 6  | 871        |\\n| Func 7  | 127        |\\n| Func 8  | 52         |\\n| Func 9  | 693        |\\n| Func21  | 65         |'}\n"
     ]
    }
   ],
   "source": [
    "agent = create_pandas_dataframe_agent(\n",
    "    llm,\n",
    "    df,\n",
    "    prefix=agent_prompt_prefix,\n",
    "    verbose=False,\n",
    "    agent_type=AgentType.OPENAI_FUNCTIONS,\n",
    "    allow_dangerous_code=True\n",
    ")\n",
    "response = agent.invoke(\"Qual a quantidade por vendedor?\")\n"
   ]
  },
  {
   "cell_type": "code",
   "execution_count": 7,
   "metadata": {},
   "outputs": [
    {
     "data": {
      "text/plain": [
       "'Aqui está a quantidade total de produtos vendidos por cada vendedor:\\n\\n| Vendedor | Quantidade |\\n|----------|------------|\\n| Func 1  | 550        |\\n| Func 10 | 404        |\\n| Func 11 | 370        |\\n| Func 12 | 594        |\\n| Func 13 | 116        |\\n| Func 14 | 390        |\\n| Func 15 | 695        |\\n| Func 16 | 382        |\\n| Func 17 | 372        |\\n| Func 18 | 48         |\\n| Func 19 | 177        |\\n| Func 2  | 332        |\\n| Func 20 | 449        |\\n| Func 3  | 930        |\\n| Func 4  | 130        |\\n| Func 5  | 108        |\\n| Func 6  | 871        |\\n| Func 7  | 127        |\\n| Func 8  | 52         |\\n| Func 9  | 693        |\\n| Func21  | 65         |'"
      ]
     },
     "execution_count": 7,
     "metadata": {},
     "output_type": "execute_result"
    }
   ],
   "source": [
    "response['output']"
   ]
  }
 ],
 "metadata": {
  "kernelspec": {
   "display_name": "Python 3",
   "language": "python",
   "name": "python3"
  },
  "language_info": {
   "codemirror_mode": {
    "name": "ipython",
    "version": 3
   },
   "file_extension": ".py",
   "mimetype": "text/x-python",
   "name": "python",
   "nbconvert_exporter": "python",
   "pygments_lexer": "ipython3",
   "version": "3.11.6"
  }
 },
 "nbformat": 4,
 "nbformat_minor": 2
}
