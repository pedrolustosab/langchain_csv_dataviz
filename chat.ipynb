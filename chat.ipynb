{
 "cells": [
  {
   "cell_type": "code",
   "execution_count": 4,
   "metadata": {},
   "outputs": [
    {
     "name": "stderr",
     "output_type": "stream",
     "text": [
      "c:\\Users\\PedroLustosa\\AppData\\Local\\Programs\\Python\\Python312\\Lib\\site-packages\\langchain_community\\llms\\__init__.py:430: LangChainDeprecationWarning: As of langchain-core 0.3.0, LangChain uses pydantic v2 internally. The langchain_core.pydantic_v1 module was a compatibility shim for pydantic v1, and should no longer be used. Please update the code to import from Pydantic directly.\n",
      "\n",
      "For example, replace imports like: `from langchain_core.pydantic_v1 import BaseModel`\n",
      "with: `from pydantic import BaseModel`\n",
      "or the v1 compatibility namespace if you are working in a code base that has not been fully upgraded to pydantic 2 yet. \tfrom pydantic.v1 import BaseModel\n",
      "\n",
      "  from langchain_community.llms.openai import OpenAI\n",
      "c:\\Users\\PedroLustosa\\AppData\\Local\\Programs\\Python\\Python312\\Lib\\site-packages\\pydantic\\_internal\\_config.py:341: UserWarning: Valid config keys have changed in V2:\n",
      "* 'allow_population_by_field_name' has been renamed to 'populate_by_name'\n",
      "  warnings.warn(message, UserWarning)\n",
      "c:\\Users\\PedroLustosa\\AppData\\Local\\Programs\\Python\\Python312\\Lib\\site-packages\\pydantic\\_internal\\_config.py:341: UserWarning: Valid config keys have changed in V2:\n",
      "* 'allow_population_by_field_name' has been renamed to 'populate_by_name'\n",
      "  warnings.warn(message, UserWarning)\n"
     ]
    }
   ],
   "source": [
    "from dotenv import load_dotenv\n",
    "from langchain_openai import ChatOpenAI\n",
    "from langchain.schema import AIMessage, HumanMessage, SystemMessage\n",
    "import pandas as pd\n",
    "from langchain.llms import OpenAI"
   ]
  },
  {
   "cell_type": "code",
   "execution_count": 7,
   "metadata": {},
   "outputs": [],
   "source": [
    "# Load environment variables from .env\n",
    "load_dotenv()\n",
    "# Create a ChatOpenAI model\n",
    "model = ChatOpenAI(temperature=0.0, model=\"gpt-4o\")"
   ]
  },
  {
   "cell_type": "code",
   "execution_count": 12,
   "metadata": {},
   "outputs": [],
   "source": [
    "def extract_metadata(df):\n",
    "    metadata = {}\n",
    "    metadata['Number of Columns'] = df.shape[1]\n",
    "    metadata['Schema'] = {col: str(df[col].dtype) for col in df.columns}\n",
    "    metadata['Data Types'] = df.dtypes.apply(lambda x: str(x)).to_dict()\n",
    "    metadata['Sample'] = df.head(1).to_dict(orient=\"records\")\n",
    "    return metadata\n",
    "\n",
    "# Load the CSV file into a pandas DataFrame\n",
    "df = pd.read_csv(\"basededados_aulat7.csv\")\n",
    "\n",
    "# Extract metadata from the DataFrame\n",
    "metadata = extract_metadata(df)\n"
   ]
  },
  {
   "cell_type": "code",
   "execution_count": 13,
   "metadata": {},
   "outputs": [],
   "source": [
    "# Format metadata for inclusion in the chat\n",
    "metadata_message = \"\\n\".join(f\"{key}: {value}\" for key, value in metadata.items())\n",
    "\n",
    "# Set an initial system message with metadata\n",
    "system_message = SystemMessage(content=f\"You are a helpful AI assistant. Here is some metadata about the DataFrame:\\n{metadata_message}\")\n",
    "chat_history = [system_message]  # Initialize chat history with system message"
   ]
  },
  {
   "cell_type": "code",
   "execution_count": 14,
   "metadata": {},
   "outputs": [
    {
     "name": "stdout",
     "output_type": "stream",
     "text": [
      "Hi, how can I help you?\n",
      "AI: Certainly! Here is a detailed description of each column in the DataFrame:\n",
      "\n",
      "1. **codfunc** (`int64`): This column contains the code of the employee (functionary) involved in the transaction.\n",
      "\n",
      "2. **func** (`object`): This column contains the name or identifier of the employee (functionary).\n",
      "\n",
      "3. **codcliente** (`int64`): This column contains the code of the client involved in the transaction.\n",
      "\n",
      "4. **cliente** (`object`): This column contains the name or identifier of the client.\n",
      "\n",
      "5. **codfilial** (`int64`): This column contains the code of the branch (filial) where the transaction took place.\n",
      "\n",
      "6. **filial** (`object`): This column contains the name or identifier of the branch (filial).\n",
      "\n",
      "7. **codfornec** (`int64`): This column contains the code of the supplier (fornecedor) involved in the transaction.\n",
      "\n",
      "8. **fornecedor** (`object`): This column contains the name or identifier of the supplier (fornecedor).\n",
      "\n",
      "9. **codprod** (`int64`): This column contains the code of the product involved in the transaction.\n",
      "\n",
      "10. **produto** (`object`): This column contains the name or identifier of the product.\n",
      "\n",
      "11. **numnota** (`int64`): This column contains the number of the invoice (nota) associated with the transaction.\n",
      "\n",
      "12. **qtd** (`int64`): This column contains the quantity of the product involved in the transaction.\n",
      "\n",
      "13. **vlrbonus** (`int64`): This column contains the value of any bonus associated with the transaction.\n",
      "\n",
      "14. **vlrunitario** (`float64`): This column contains the unit price of the product involved in the transaction.\n",
      "\n",
      "15. **datasaida** (`object`): This column contains the date and time when the product was dispatched or the transaction took place. The date is stored as a string in the format 'YYYY-MM-DD HH:MM:SS.sss'.\n",
      "\n",
      "These columns collectively provide detailed information about each transaction, including the parties involved (employee, client, supplier), the product details, the financial aspects (quantity, unit price, bonus), and the timing of the transaction.\n",
      "AI: Based on the metadata provided, the DataFrame has 15 columns. However, the number of rows is not specified in the metadata. To determine the exact number of rows, you would typically use the `.shape` attribute in a pandas DataFrame, which returns a tuple containing the number of rows and columns.\n",
      "\n",
      "For example, if you have the DataFrame `df`, you can find out the number of rows and columns by executing:\n",
      "\n",
      "```python\n",
      "num_rows, num_columns = df.shape\n",
      "print(f\"Number of rows: {num_rows}\")\n",
      "print(f\"Number of columns: {num_columns}\")\n",
      "```\n",
      "\n",
      "Since the number of rows is not provided in the metadata, you would need to run the above code on your DataFrame to get the exact count.\n"
     ]
    }
   ],
   "source": [
    "print(\"Hi, how can I help you?\")\n",
    "\n",
    "# Chat loop\n",
    "while True:\n",
    "    query = input(\"You: \")\n",
    "    if query.lower() == \"exit\":\n",
    "        break\n",
    "    \n",
    "    chat_history.append(HumanMessage(content=query))  # Add user message to chat history\n",
    "\n",
    "    # Get AI response using history\n",
    "    result = model.invoke(chat_history)\n",
    "    response = result.content\n",
    "    chat_history.append(AIMessage(content=response))  # Add AI message to chat history\n",
    "\n",
    "    print(f\"AI: {response}\")"
   ]
  }
 ],
 "metadata": {
  "kernelspec": {
   "display_name": "Python 3",
   "language": "python",
   "name": "python3"
  },
  "language_info": {
   "codemirror_mode": {
    "name": "ipython",
    "version": 3
   },
   "file_extension": ".py",
   "mimetype": "text/x-python",
   "name": "python",
   "nbconvert_exporter": "python",
   "pygments_lexer": "ipython3",
   "version": "3.12.6"
  }
 },
 "nbformat": 4,
 "nbformat_minor": 2
}
