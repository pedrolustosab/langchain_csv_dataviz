{
 "cells": [
  {
   "cell_type": "code",
   "execution_count": 1,
   "metadata": {},
   "outputs": [],
   "source": [
    "import os\n",
    "import pandas as pd\n",
    "import plotly.express as px\n",
    "from dotenv import load_dotenv\n",
    "from langchain_experimental.agents import create_pandas_dataframe_agent\n",
    "from langchain.tools import BaseTool\n",
    "from langchain_openai import ChatOpenAI\n",
    "\n",
    "# Load environment variables from .env file\n",
    "load_dotenv()\n",
    "\n",
    "# Set up OpenAI API key\n",
    "openai_api_key = os.getenv(\"OPENAI_API_KEY\")\n",
    "\n",
    "# Create the language model (LLM) instance\n",
    "llm = ChatOpenAI(temperature=0, model=\"gpt-3.5-turbo\")\n"
   ]
  },
  {
   "cell_type": "code",
   "execution_count": 2,
   "metadata": {},
   "outputs": [],
   "source": [
    "# Define the tool to import CSV files\n",
    "class CSVImportTool(BaseTool):\n",
    "    name: str = \"csv_import\"\n",
    "    description: str = \"Import a CSV file into a pandas DataFrame.\"\n",
    "    \n",
    "    def _run(self, query: str) -> str:\n",
    "        try:\n",
    "            df = pd.read_csv(query)\n",
    "            return f\"CSV file '{query}' imported successfully. The DataFrame has {len(df)} rows and {len(df.columns)} columns.\"\n",
    "        except Exception as e:\n",
    "            return f\"Error importing CSV file: {e}\"\n",
    "    \n",
    "    def _arun(self, query: str) -> pd.DataFrame:\n",
    "        return pd.read_csv(query)\n",
    "\n",
    "# Define the tool to suggest the best chart\n",
    "class ChartSuggestionTool(BaseTool):\n",
    "    name: str = \"chart_suggestion\"\n",
    "    description: str = \"Suggest the most appropriate chart for visualizing the data in a pandas DataFrame.\"\n",
    "    \n",
    "    def _run(self, df: pd.DataFrame) -> str:\n",
    "        num_cols = len([col for col in df.columns if df[col].dtype in ['int64', 'float64']])\n",
    "        cat_cols = len([col for col in df.columns if df[col].dtype == 'object'])\n",
    "        \n",
    "        if num_cols == 1 and cat_cols == 1:\n",
    "            return \"For a single numerical column and a single categorical column, a bar chart or a line chart would be appropriate.\"\n",
    "        elif num_cols == 2 and cat_cols == 0:\n",
    "            return \"For two numerical columns, a scatter plot would be a good choice.\"\n",
    "        elif num_cols > 2 and cat_cols == 0:\n",
    "            return \"For multiple numerical columns, you could consider a scatter plot matrix or a parallel coordinates plot.\"\n",
    "        elif cat_cols > 1:\n",
    "            return \"For multiple categorical columns, you could use a stacked bar chart or a heatmap.\"\n",
    "        else:\n",
    "            return \"Based on the data, it's difficult to suggest an appropriate chart. Please provide more information about the data and the analysis you want to perform.\"\n",
    "    \n",
    "    def _arun(self, df: pd.DataFrame) -> str:\n",
    "        return self._run(df)\n",
    "\n",
    "# Define the tool to provide DataFrame insights\n",
    "class DataFrameInsightsTool(BaseTool):\n",
    "    name: str = \"dataframe_insights\"\n",
    "    description: str = \"Provide insights about a pandas DataFrame, such as data types, missing values, and basic statistics.\"\n",
    "    \n",
    "    def _run(self, df: pd.DataFrame) -> str:\n",
    "        insights = []\n",
    "        \n",
    "        # Data types\n",
    "        data_types = df.dtypes.value_counts().to_dict()\n",
    "        insights.append(f\"Data types: {', '.join([f'{dtype} ({count})' for dtype, count in data_types.items()])}\")\n",
    "        \n",
    "        # Missing values\n",
    "        missing_values = df.isnull().sum().sum()\n",
    "        insights.append(f\"Missing values: {missing_values}\")\n",
    "        \n",
    "        # Basic statistics\n",
    "        if len([col for col in df.columns if df[col].dtype in ['int64', 'float64']]) > 0:\n",
    "            numeric_cols = df.select_dtypes(include=['int64', 'float64'])\n",
    "            numeric_stats = numeric_cols.describe().T\n",
    "            insights.append(\"Basic statistics for numerical columns:\\n\" + numeric_stats.to_string())\n",
    "        \n",
    "        return \"\\n\".join(insights)\n",
    "    \n",
    "    def _arun(self, df: pd.DataFrame) -> str:\n",
    "        return self._run(df)\n"
   ]
  },
  {
   "cell_type": "code",
   "execution_count": 3,
   "metadata": {},
   "outputs": [],
   "source": [
    "# Function to create and save a plot using plotly.express\n",
    "def create_and_save_plot(df, x_column, y_column, plot_type=\"bar\", file_name=\"plot.png\"):\n",
    "    if plot_type == \"bar\":\n",
    "        fig = px.bar(df, x=x_column, y=y_column)\n",
    "    elif plot_type == \"line\":\n",
    "        fig = px.line(df, x=x_column, y=y_column)\n",
    "    elif plot_type == \"scatter\":\n",
    "        fig = px.scatter(df, x=x_column, y=y_column)\n",
    "    elif plot_type == \"histogram\":\n",
    "        fig = px.histogram(df, x=x_column)\n",
    "    elif plot_type == \"box\":\n",
    "        fig = px.box(df, x=x_column, y=y_column)\n",
    "    else:\n",
    "        raise ValueError(f\"Unsupported plot type: {plot_type}\")\n",
    "    \n",
    "    # Save the plot to a file\n",
    "    fig.write_image(file_name)\n",
    "    print(f\"Plot saved as {file_name}\")\n"
   ]
  },
  {
   "cell_type": "code",
   "execution_count": 5,
   "metadata": {},
   "outputs": [
    {
     "name": "stdout",
     "output_type": "stream",
     "text": [
      "AI Assistant: Hello! How can I assist you today? (Type 'exit' to end the chat)\n"
     ]
    },
    {
     "name": "stdout",
     "output_type": "stream",
     "text": [
      "AI Assistant: {'input': 'quero insghts dos dados', 'output': 'The insights from the data include summary statistics of numerical columns and the number of unique values in categorical columns.'}\n",
      "AI Assistant: {'input': 'me de o sumario', 'output': 'The summary statistics for the dataframe `df` are displayed above.'}\n",
      "AI Assistant: {'input': 'qual melhor gráfico para plotar os 5 primeiros produtos', 'output': 'Agent stopped due to iteration limit or time limit.'}\n"
     ]
    }
   ],
   "source": [
    "csv_file = \"basededados_aulat7.csv\"\n",
    "df = pd.read_csv(csv_file)\n",
    "\n",
    "# Initialize the agent with the actual DataFrame\n",
    "agent = create_pandas_dataframe_agent(llm=llm, df=df, verbose=False, allow_dangerous_code=True)\n",
    "\n",
    "print(\"AI Assistant: Hello! How can I assist you today? (Type 'exit' to end the chat)\")\n",
    "\n",
    "while True:\n",
    "    query = input(\"Human: \")\n",
    "    if query.lower() == \"exit\":\n",
    "        break  # Exit the chat loop\n",
    "    else:\n",
    "        response = agent.invoke(query)\n",
    "        print(\"AI Assistant:\", response)\n"
   ]
  }
 ],
 "metadata": {
  "kernelspec": {
   "display_name": "Python 3",
   "language": "python",
   "name": "python3"
  },
  "language_info": {
   "codemirror_mode": {
    "name": "ipython",
    "version": 3
   },
   "file_extension": ".py",
   "mimetype": "text/x-python",
   "name": "python",
   "nbconvert_exporter": "python",
   "pygments_lexer": "ipython3",
   "version": "3.11.6"
  }
 },
 "nbformat": 4,
 "nbformat_minor": 2
}
