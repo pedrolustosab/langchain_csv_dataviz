{
 "cells": [
  {
   "cell_type": "code",
   "execution_count": 1,
   "metadata": {},
   "outputs": [],
   "source": [
    "import pandas as pd\n",
    "from pandasai.llm.openai import OpenAI\n",
    "from langchain_openai import ChatOpenAI\n",
    "from pandasai import SmartDataframe\n",
    "from dotenv import load_dotenv\n",
    "from langchain_experimental.agents import create_pandas_dataframe_agent\n",
    "import plotly.express as px"
   ]
  },
  {
   "cell_type": "code",
   "execution_count": 2,
   "metadata": {},
   "outputs": [],
   "source": [
    "# Load environment variables from .env (ensure you have OpenAI keys set here)\n",
    "load_dotenv()\n",
    "\n",
    "# Load your CSV data into a pandas DataFrame\n",
    "df = pd.read_csv(\"basededados_aulat7.csv\")"
   ]
  },
  {
   "cell_type": "code",
   "execution_count": 3,
   "metadata": {},
   "outputs": [
    {
     "name": "stdout",
     "output_type": "stream",
     "text": [
      "{'type': 'dataframe', 'value':         Data  Quantidade\n",
      "0 2022-02-01         961\n",
      "1 2022-02-02        1082\n",
      "2 2022-02-03         328\n",
      "3 2022-02-04        5000\n",
      "4 2022-02-05         484}\n"
     ]
    }
   ],
   "source": [
    "question = \"Evolução da quantidade\"\n",
    "prompt_question = f\"Retorne dataframe sobre:{question}\"\n",
    "llm = OpenAI(temperature=0)\n",
    "sdf = SmartDataframe(df, config={\"llm\": llm})\n",
    "filtered_df = sdf.chat(prompt_question)\n"
   ]
  },
  {
   "cell_type": "code",
   "execution_count": 4,
   "metadata": {},
   "outputs": [],
   "source": [
    "# Initialize LangChain's OpenAI model for broader language tasks\n",
    "chat_openai = ChatOpenAI(temperature=0, model=\"gpt-3.5-turbo\")"
   ]
  },
  {
   "cell_type": "code",
   "execution_count": 5,
   "metadata": {},
   "outputs": [
    {
     "name": "stderr",
     "output_type": "stream",
     "text": [
      "C:\\Users\\PedroLustosa\\AppData\\Local\\Temp\\ipykernel_13792\\3508446072.py:10: LangChainDeprecationWarning: The method `Chain.run` was deprecated in langchain 0.1.0 and will be removed in 1.0. Use invoke instead.\n",
      "  chart = agent_chart.run(chart_prompt_template)\n"
     ]
    },
    {
     "name": "stdout",
     "output_type": "stream",
     "text": [
      "\u001b[32;1m\u001b[1;3mThought: We have a date column and a quantity column, which suggests that a line chart for time-series data would be the most appropriate visualization.\n",
      "Action: \n",
      "python_repl_ast\n",
      "Action Input: \n",
      "print(df.dtypes)\u001b[0m\u001b[36;1m\u001b[1;3mData          datetime64[ns]\n",
      "Quantidade             int64\n",
      "dtype: object\n",
      "\u001b[0m\u001b[32;1m\u001b[1;3mThe 'Data' column is of type datetime and 'Quantidade' is of type integer, confirming that a line chart for time-series data would be the most appropriate visualization.\n",
      "Final Answer: Line chart\u001b[0m\n",
      "\n",
      "\u001b[1m> Finished chain.\u001b[0m\n"
     ]
    }
   ],
   "source": [
    "chart_prompt_template = f\"\"\"\n",
    "Suggest the most appropriate chart for visualizing the data, taking into account the columns and the type of analysis:\n",
    "- Bar chart for comparisons between categories.\n",
    "- Line chart for time-series data.\n",
    "- Pie chart for proportions.\n",
    "- Histogram for distributions.\n",
    "Return only the best chart\n",
    "\"\"\"\n",
    "agent_chart = create_pandas_dataframe_agent(chat_openai, filtered_df, verbose=True, allow_dangerous_code=True)\n",
    "chart = agent_chart.run(chart_prompt_template)"
   ]
  },
  {
   "cell_type": "code",
   "execution_count": 6,
   "metadata": {},
   "outputs": [
    {
     "name": "stdout",
     "output_type": "stream",
     "text": [
      "\u001b[32;1m\u001b[1;3mThought: I can calculate some basic statistics to provide insights.\n",
      "Action: python_repl_ast\n",
      "Action Input: df.describe()\u001b[0m\u001b[36;1m\u001b[1;3m        Quantidade\n",
      "count     5.000000\n",
      "mean   1571.000000\n",
      "std    1942.670842\n",
      "min     328.000000\n",
      "25%     484.000000\n",
      "50%     961.000000\n",
      "75%    1082.000000\n",
      "max    5000.000000\u001b[0m\u001b[32;1m\u001b[1;3mThe data seems to have a wide range of values, with a mean of 1571 and a standard deviation of 1942.67.\n",
      "Final Answer: The data shows that the average quantity is 1571 with a standard deviation of 1942.67.\u001b[0m\n",
      "\n",
      "\u001b[1m> Finished chain.\u001b[0m\n"
     ]
    }
   ],
   "source": [
    "chart_prompt_insghts = \"\"\"You are a data analysis expert. Provide some powerfull insights.\"\"\"\n",
    "agent_insghts = create_pandas_dataframe_agent(chat_openai, filtered_df, verbose=True, allow_dangerous_code=True)\n",
    "insghts = agent_insghts.run(chart_prompt_insghts)"
   ]
  },
  {
   "cell_type": "code",
   "execution_count": 7,
   "metadata": {},
   "outputs": [
    {
     "name": "stdout",
     "output_type": "stream",
     "text": [
      "\u001b[32;1m\u001b[1;3mThought: To plot a line chart, we need to use a plotting library like matplotlib or seaborn.\n",
      "Action: python_repl_ast\n",
      "Action Input: import matplotlib.pyplot as plt\u001b[0m\u001b[36;1m\u001b[1;3m\u001b[0m\u001b[32;1m\u001b[1;3mNow that we have imported matplotlib, we can proceed to plot the line chart.\n",
      "Action: python_repl_ast\n",
      "Action Input: plt.plot(df['Data'], df['Quantidade'])\u001b[0m\u001b[36;1m\u001b[1;3m[<matplotlib.lines.Line2D object at 0x000002546FF613D0>]\u001b[0m\u001b[32;1m\u001b[1;3mThe line chart has been plotted successfully.\n",
      "Final Answer: The line chart based on Evolução da quantidade has been plotted.\u001b[0m\n",
      "\n",
      "\u001b[1m> Finished chain.\u001b[0m\n"
     ]
    },
    {
     "data": {
      "text/plain": [
       "'The line chart based on Evolução da quantidade has been plotted.'"
      ]
     },
     "execution_count": 7,
     "metadata": {},
     "output_type": "execute_result"
    },
    {
     "data": {
      "image/png": "[encoded data removed]",
      "text/plain": [
       "<Figure size 640x480 with 1 Axes>"
      ]
     },
     "metadata": {},
     "output_type": "display_data"
    }
   ],
   "source": [
    "agent_final = create_pandas_dataframe_agent(chat_openai, filtered_df, verbose=True, allow_dangerous_code=True)\n",
    "agent_final.run(f\"Plot {chart} base on {question}.\")"
   ]
  }
 ],
 "metadata": {
  "kernelspec": {
   "display_name": "Python 3",
   "language": "python",
   "name": "python3"
  },
  "language_info": {
   "codemirror_mode": {
    "name": "ipython",
    "version": 3
   },
   "file_extension": ".py",
   "mimetype": "text/x-python",
   "name": "python",
   "nbconvert_exporter": "python",
   "pygments_lexer": "ipython3",
   "version": "3.11.6"
  }
 },
 "nbformat": 4,
 "nbformat_minor": 2
}
